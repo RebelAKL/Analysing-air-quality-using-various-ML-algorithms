{
 "cells": [
  {
   "cell_type": "markdown",
   "metadata": {
    "colab_type": "text",
    "id": "view-in-github"
   },
   "source": [
    "<a href=\"https://colab.research.google.com/github/RebelAKL/Analysing-air-quality-using-various-ML-algorithms/blob/main/aqi_analysis(lr_rf_xgboost).ipynb\" target=\"_parent\"><img src=\"https://colab.research.google.com/assets/colab-badge.svg\" alt=\"Open In Colab\"/></a>"
   ]
  },
  {
   "cell_type": "code",
   "execution_count": 1,
   "metadata": {
    "id": "kxIj6o7qTUim"
   },
   "outputs": [],
   "source": [
    "import pandas as pd\n",
    "import numpy as np\n",
    "import matplotlib.pyplot as plt\n",
    "from sklearn.model_selection import train_test_split\n",
    "from sklearn.linear_model import LinearRegression\n",
    "from sklearn.ensemble import RandomForestRegressor\n",
    "from xgboost import XGBRegressor\n",
    "from sklearn.metrics import mean_squared_error, r2_score\n",
    "from sklearn.preprocessing import StandardScaler\n",
    "from statsmodels.tsa.holtwinters import ExponentialSmoothing\n",
    "import joblib\n",
    "import seaborn as sns\n"
   ]
  },
  {
   "cell_type": "code",
   "execution_count": 2,
   "metadata": {
    "id": "TL3Z-hNoTz5U"
   },
   "outputs": [],
   "source": [
    "df = pd.read_csv(\"ananandvihar(24hr).csv\")\n"
   ]
  },
  {
   "cell_type": "code",
   "execution_count": 3,
   "metadata": {
    "colab": {
     "base_uri": "https://localhost:8080/",
     "height": 206
    },
    "id": "qt0i_4PjWjJX",
    "outputId": "09462e19-0b7c-4651-ba03-438c24e5c000"
   },
   "outputs": [
    {
     "data": {
      "text/html": [
       "<div>\n",
       "<style scoped>\n",
       "    .dataframe tbody tr th:only-of-type {\n",
       "        vertical-align: middle;\n",
       "    }\n",
       "\n",
       "    .dataframe tbody tr th {\n",
       "        vertical-align: top;\n",
       "    }\n",
       "\n",
       "    .dataframe thead th {\n",
       "        text-align: right;\n",
       "    }\n",
       "</style>\n",
       "<table border=\"1\" class=\"dataframe\">\n",
       "  <thead>\n",
       "    <tr style=\"text-align: right;\">\n",
       "      <th></th>\n",
       "      <th>Date</th>\n",
       "      <th>PM2.5</th>\n",
       "      <th>PM10</th>\n",
       "      <th>NO</th>\n",
       "      <th>NO2</th>\n",
       "      <th>NOx</th>\n",
       "      <th>NH3</th>\n",
       "      <th>SO2</th>\n",
       "      <th>CO</th>\n",
       "      <th>Ozone</th>\n",
       "      <th>Benzene</th>\n",
       "      <th>Toluene</th>\n",
       "      <th>RH</th>\n",
       "      <th>WS</th>\n",
       "      <th>WD</th>\n",
       "      <th>SR</th>\n",
       "      <th>BP</th>\n",
       "      <th>AT</th>\n",
       "    </tr>\n",
       "  </thead>\n",
       "  <tbody>\n",
       "    <tr>\n",
       "      <th>0</th>\n",
       "      <td>01-01-2024 00:00</td>\n",
       "      <td>199.56</td>\n",
       "      <td>335.12</td>\n",
       "      <td>38.99</td>\n",
       "      <td>56.29</td>\n",
       "      <td>61.65</td>\n",
       "      <td>18.28</td>\n",
       "      <td>9.33</td>\n",
       "      <td>1.60</td>\n",
       "      <td>17.08</td>\n",
       "      <td>2.31</td>\n",
       "      <td>8.15</td>\n",
       "      <td>75.30</td>\n",
       "      <td>0.41</td>\n",
       "      <td>60.27</td>\n",
       "      <td>127.21</td>\n",
       "      <td>741.94</td>\n",
       "      <td>11.83</td>\n",
       "    </tr>\n",
       "    <tr>\n",
       "      <th>1</th>\n",
       "      <td>02-01-2024 00:00</td>\n",
       "      <td>195.91</td>\n",
       "      <td>320.67</td>\n",
       "      <td>46.46</td>\n",
       "      <td>62.58</td>\n",
       "      <td>71.07</td>\n",
       "      <td>19.42</td>\n",
       "      <td>22.19</td>\n",
       "      <td>1.77</td>\n",
       "      <td>17.98</td>\n",
       "      <td>2.20</td>\n",
       "      <td>9.02</td>\n",
       "      <td>72.11</td>\n",
       "      <td>0.54</td>\n",
       "      <td>54.18</td>\n",
       "      <td>135.27</td>\n",
       "      <td>741.98</td>\n",
       "      <td>11.54</td>\n",
       "    </tr>\n",
       "    <tr>\n",
       "      <th>2</th>\n",
       "      <td>03-01-2024 00:00</td>\n",
       "      <td>247.44</td>\n",
       "      <td>360.37</td>\n",
       "      <td>69.63</td>\n",
       "      <td>71.08</td>\n",
       "      <td>94.41</td>\n",
       "      <td>25.29</td>\n",
       "      <td>16.65</td>\n",
       "      <td>2.18</td>\n",
       "      <td>15.52</td>\n",
       "      <td>3.43</td>\n",
       "      <td>12.03</td>\n",
       "      <td>84.56</td>\n",
       "      <td>0.51</td>\n",
       "      <td>38.12</td>\n",
       "      <td>119.43</td>\n",
       "      <td>742.00</td>\n",
       "      <td>10.76</td>\n",
       "    </tr>\n",
       "    <tr>\n",
       "      <th>3</th>\n",
       "      <td>04-01-2024 00:00</td>\n",
       "      <td>274.06</td>\n",
       "      <td>436.22</td>\n",
       "      <td>91.01</td>\n",
       "      <td>71.07</td>\n",
       "      <td>111.79</td>\n",
       "      <td>34.86</td>\n",
       "      <td>10.11</td>\n",
       "      <td>1.86</td>\n",
       "      <td>14.38</td>\n",
       "      <td>3.17</td>\n",
       "      <td>18.21</td>\n",
       "      <td>81.26</td>\n",
       "      <td>0.32</td>\n",
       "      <td>96.44</td>\n",
       "      <td>111.25</td>\n",
       "      <td>741.96</td>\n",
       "      <td>11.54</td>\n",
       "    </tr>\n",
       "    <tr>\n",
       "      <th>4</th>\n",
       "      <td>05-01-2024 00:00</td>\n",
       "      <td>218.28</td>\n",
       "      <td>345.98</td>\n",
       "      <td>66.03</td>\n",
       "      <td>59.13</td>\n",
       "      <td>85.10</td>\n",
       "      <td>42.52</td>\n",
       "      <td>11.37</td>\n",
       "      <td>2.20</td>\n",
       "      <td>15.25</td>\n",
       "      <td>2.75</td>\n",
       "      <td>14.08</td>\n",
       "      <td>84.88</td>\n",
       "      <td>0.32</td>\n",
       "      <td>51.01</td>\n",
       "      <td>79.26</td>\n",
       "      <td>742.00</td>\n",
       "      <td>12.01</td>\n",
       "    </tr>\n",
       "  </tbody>\n",
       "</table>\n",
       "</div>"
      ],
      "text/plain": [
       "               Date   PM2.5    PM10     NO    NO2     NOx    NH3    SO2    CO  \\\n",
       "0  01-01-2024 00:00  199.56  335.12  38.99  56.29   61.65  18.28   9.33  1.60   \n",
       "1  02-01-2024 00:00  195.91  320.67  46.46  62.58   71.07  19.42  22.19  1.77   \n",
       "2  03-01-2024 00:00  247.44  360.37  69.63  71.08   94.41  25.29  16.65  2.18   \n",
       "3  04-01-2024 00:00  274.06  436.22  91.01  71.07  111.79  34.86  10.11  1.86   \n",
       "4  05-01-2024 00:00  218.28  345.98  66.03  59.13   85.10  42.52  11.37  2.20   \n",
       "\n",
       "   Ozone  Benzene  Toluene     RH    WS     WD      SR      BP     AT  \n",
       "0  17.08     2.31     8.15  75.30  0.41  60.27  127.21  741.94  11.83  \n",
       "1  17.98     2.20     9.02  72.11  0.54  54.18  135.27  741.98  11.54  \n",
       "2  15.52     3.43    12.03  84.56  0.51  38.12  119.43  742.00  10.76  \n",
       "3  14.38     3.17    18.21  81.26  0.32  96.44  111.25  741.96  11.54  \n",
       "4  15.25     2.75    14.08  84.88  0.32  51.01   79.26  742.00  12.01  "
      ]
     },
     "execution_count": 3,
     "metadata": {},
     "output_type": "execute_result"
    }
   ],
   "source": [
    "df.head()"
   ]
  },
  {
   "cell_type": "code",
   "execution_count": 4,
   "metadata": {
    "id": "U8BuBXZmWjG4"
   },
   "outputs": [],
   "source": [
    "df['Date'] = pd.to_datetime(df['Date'], format='%d-%m-%Y %H:%M').dt.date\n"
   ]
  },
  {
   "cell_type": "code",
   "execution_count": 5,
   "metadata": {
    "colab": {
     "base_uri": "https://localhost:8080/",
     "height": 206
    },
    "id": "ABcXaeaVaPiP",
    "outputId": "c01f9aed-bdc7-4421-d1aa-b6dacf77678f"
   },
   "outputs": [
    {
     "data": {
      "text/html": [
       "<div>\n",
       "<style scoped>\n",
       "    .dataframe tbody tr th:only-of-type {\n",
       "        vertical-align: middle;\n",
       "    }\n",
       "\n",
       "    .dataframe tbody tr th {\n",
       "        vertical-align: top;\n",
       "    }\n",
       "\n",
       "    .dataframe thead th {\n",
       "        text-align: right;\n",
       "    }\n",
       "</style>\n",
       "<table border=\"1\" class=\"dataframe\">\n",
       "  <thead>\n",
       "    <tr style=\"text-align: right;\">\n",
       "      <th></th>\n",
       "      <th>Date</th>\n",
       "      <th>PM2.5</th>\n",
       "      <th>PM10</th>\n",
       "      <th>NO</th>\n",
       "      <th>NO2</th>\n",
       "      <th>NOx</th>\n",
       "      <th>NH3</th>\n",
       "      <th>SO2</th>\n",
       "      <th>CO</th>\n",
       "      <th>Ozone</th>\n",
       "      <th>Benzene</th>\n",
       "      <th>Toluene</th>\n",
       "      <th>RH</th>\n",
       "      <th>WS</th>\n",
       "      <th>WD</th>\n",
       "      <th>SR</th>\n",
       "      <th>BP</th>\n",
       "      <th>AT</th>\n",
       "    </tr>\n",
       "  </thead>\n",
       "  <tbody>\n",
       "    <tr>\n",
       "      <th>0</th>\n",
       "      <td>2024-01-01</td>\n",
       "      <td>199.56</td>\n",
       "      <td>335.12</td>\n",
       "      <td>38.99</td>\n",
       "      <td>56.29</td>\n",
       "      <td>61.65</td>\n",
       "      <td>18.28</td>\n",
       "      <td>9.33</td>\n",
       "      <td>1.60</td>\n",
       "      <td>17.08</td>\n",
       "      <td>2.31</td>\n",
       "      <td>8.15</td>\n",
       "      <td>75.30</td>\n",
       "      <td>0.41</td>\n",
       "      <td>60.27</td>\n",
       "      <td>127.21</td>\n",
       "      <td>741.94</td>\n",
       "      <td>11.83</td>\n",
       "    </tr>\n",
       "    <tr>\n",
       "      <th>1</th>\n",
       "      <td>2024-01-02</td>\n",
       "      <td>195.91</td>\n",
       "      <td>320.67</td>\n",
       "      <td>46.46</td>\n",
       "      <td>62.58</td>\n",
       "      <td>71.07</td>\n",
       "      <td>19.42</td>\n",
       "      <td>22.19</td>\n",
       "      <td>1.77</td>\n",
       "      <td>17.98</td>\n",
       "      <td>2.20</td>\n",
       "      <td>9.02</td>\n",
       "      <td>72.11</td>\n",
       "      <td>0.54</td>\n",
       "      <td>54.18</td>\n",
       "      <td>135.27</td>\n",
       "      <td>741.98</td>\n",
       "      <td>11.54</td>\n",
       "    </tr>\n",
       "    <tr>\n",
       "      <th>2</th>\n",
       "      <td>2024-01-03</td>\n",
       "      <td>247.44</td>\n",
       "      <td>360.37</td>\n",
       "      <td>69.63</td>\n",
       "      <td>71.08</td>\n",
       "      <td>94.41</td>\n",
       "      <td>25.29</td>\n",
       "      <td>16.65</td>\n",
       "      <td>2.18</td>\n",
       "      <td>15.52</td>\n",
       "      <td>3.43</td>\n",
       "      <td>12.03</td>\n",
       "      <td>84.56</td>\n",
       "      <td>0.51</td>\n",
       "      <td>38.12</td>\n",
       "      <td>119.43</td>\n",
       "      <td>742.00</td>\n",
       "      <td>10.76</td>\n",
       "    </tr>\n",
       "    <tr>\n",
       "      <th>3</th>\n",
       "      <td>2024-01-04</td>\n",
       "      <td>274.06</td>\n",
       "      <td>436.22</td>\n",
       "      <td>91.01</td>\n",
       "      <td>71.07</td>\n",
       "      <td>111.79</td>\n",
       "      <td>34.86</td>\n",
       "      <td>10.11</td>\n",
       "      <td>1.86</td>\n",
       "      <td>14.38</td>\n",
       "      <td>3.17</td>\n",
       "      <td>18.21</td>\n",
       "      <td>81.26</td>\n",
       "      <td>0.32</td>\n",
       "      <td>96.44</td>\n",
       "      <td>111.25</td>\n",
       "      <td>741.96</td>\n",
       "      <td>11.54</td>\n",
       "    </tr>\n",
       "    <tr>\n",
       "      <th>4</th>\n",
       "      <td>2024-01-05</td>\n",
       "      <td>218.28</td>\n",
       "      <td>345.98</td>\n",
       "      <td>66.03</td>\n",
       "      <td>59.13</td>\n",
       "      <td>85.10</td>\n",
       "      <td>42.52</td>\n",
       "      <td>11.37</td>\n",
       "      <td>2.20</td>\n",
       "      <td>15.25</td>\n",
       "      <td>2.75</td>\n",
       "      <td>14.08</td>\n",
       "      <td>84.88</td>\n",
       "      <td>0.32</td>\n",
       "      <td>51.01</td>\n",
       "      <td>79.26</td>\n",
       "      <td>742.00</td>\n",
       "      <td>12.01</td>\n",
       "    </tr>\n",
       "  </tbody>\n",
       "</table>\n",
       "</div>"
      ],
      "text/plain": [
       "         Date   PM2.5    PM10     NO    NO2     NOx    NH3    SO2    CO  \\\n",
       "0  2024-01-01  199.56  335.12  38.99  56.29   61.65  18.28   9.33  1.60   \n",
       "1  2024-01-02  195.91  320.67  46.46  62.58   71.07  19.42  22.19  1.77   \n",
       "2  2024-01-03  247.44  360.37  69.63  71.08   94.41  25.29  16.65  2.18   \n",
       "3  2024-01-04  274.06  436.22  91.01  71.07  111.79  34.86  10.11  1.86   \n",
       "4  2024-01-05  218.28  345.98  66.03  59.13   85.10  42.52  11.37  2.20   \n",
       "\n",
       "   Ozone  Benzene  Toluene     RH    WS     WD      SR      BP     AT  \n",
       "0  17.08     2.31     8.15  75.30  0.41  60.27  127.21  741.94  11.83  \n",
       "1  17.98     2.20     9.02  72.11  0.54  54.18  135.27  741.98  11.54  \n",
       "2  15.52     3.43    12.03  84.56  0.51  38.12  119.43  742.00  10.76  \n",
       "3  14.38     3.17    18.21  81.26  0.32  96.44  111.25  741.96  11.54  \n",
       "4  15.25     2.75    14.08  84.88  0.32  51.01   79.26  742.00  12.01  "
      ]
     },
     "execution_count": 5,
     "metadata": {},
     "output_type": "execute_result"
    }
   ],
   "source": [
    "df.head()"
   ]
  },
  {
   "cell_type": "code",
   "execution_count": 6,
   "metadata": {
    "id": "JkN-xbLWaTZK"
   },
   "outputs": [],
   "source": [
    "df.to_csv(\"updated_dataset.csv\", index=False)"
   ]
  },
  {
   "cell_type": "code",
   "execution_count": 7,
   "metadata": {
    "colab": {
     "base_uri": "https://localhost:8080/"
    },
    "id": "N9kjw60PUVF7",
    "outputId": "7152af95-f938-4e59-942b-ca032575eb2d"
   },
   "outputs": [
    {
     "name": "stdout",
     "output_type": "stream",
     "text": [
      "         Date         AQI\n",
      "0  2024-01-01  250.000000\n",
      "1  2024-01-02  250.000000\n",
      "2  2024-01-03  253.456667\n",
      "3  2024-01-04  278.740000\n",
      "4  2024-01-05  250.000000\n"
     ]
    }
   ],
   "source": [
    "def calculate_aqi(concentration, c_low, c_high, a_low, a_high):\n",
    "    if concentration <= c_low:\n",
    "        return a_low\n",
    "    elif concentration >= c_high:\n",
    "        return a_high\n",
    "    else:\n",
    "        return a_low + (a_high - a_low) * (concentration - c_low) / (c_high - c_low)\n",
    "\n",
    "breakpoints = {\n",
    "    'PM2.5': [(0, 30), (30, 60), (60, 90), (90, 120), (120, 250), (250, 500)],\n",
    "    'PM10': [(0, 50), (50, 100), (100, 150), (150, 200), (200, 350), (350, 500)],\n",
    "    'NO2': [(0, 40), (40, 80), (80, 180), (180, 280), (280, 400), (400, 800)],\n",
    "    'Ozone': [(0, 50), (50, 100), (100, 160), (160, 200), (200, 300), (300, 400)],\n",
    "    'CO': [(0, 2), (2, 5), (5, 10), (10, 20), (20, 30), (30, 50)],\n",
    "    'SO2': [(0, 40), (40, 80), (80, 380), (380, 800), (800, 1600), (1600, 2000)],\n",
    "}\n",
    "\n",
    "\n",
    "for pollutant, limits in breakpoints.items():\n",
    "    for i, (low, high) in enumerate(limits):\n",
    "        df[f'{pollutant}_AQI'] = df.apply(\n",
    "            lambda row: calculate_aqi(row[pollutant], low, high, i * 50, (i + 1) * 50),\n",
    "            axis=1\n",
    "        )\n",
    "\n",
    "\n",
    "df['AQI'] = df[['PM2.5_AQI', 'PM10_AQI', 'NO2_AQI', 'Ozone_AQI', 'CO_AQI', 'SO2_AQI']].max(axis=1)\n",
    "\n",
    "\n",
    "print(df[['Date', 'AQI']].head())"
   ]
  },
  {
   "cell_type": "code",
   "execution_count": 8,
   "metadata": {},
   "outputs": [
    {
     "data": {
      "text/html": [
       "<div>\n",
       "<style scoped>\n",
       "    .dataframe tbody tr th:only-of-type {\n",
       "        vertical-align: middle;\n",
       "    }\n",
       "\n",
       "    .dataframe tbody tr th {\n",
       "        vertical-align: top;\n",
       "    }\n",
       "\n",
       "    .dataframe thead th {\n",
       "        text-align: right;\n",
       "    }\n",
       "</style>\n",
       "<table border=\"1\" class=\"dataframe\">\n",
       "  <thead>\n",
       "    <tr style=\"text-align: right;\">\n",
       "      <th></th>\n",
       "      <th>Date</th>\n",
       "      <th>PM2.5</th>\n",
       "      <th>PM10</th>\n",
       "      <th>NO</th>\n",
       "      <th>NO2</th>\n",
       "      <th>NOx</th>\n",
       "      <th>NH3</th>\n",
       "      <th>SO2</th>\n",
       "      <th>CO</th>\n",
       "      <th>Ozone</th>\n",
       "      <th>...</th>\n",
       "      <th>SR</th>\n",
       "      <th>BP</th>\n",
       "      <th>AT</th>\n",
       "      <th>PM2.5_AQI</th>\n",
       "      <th>PM10_AQI</th>\n",
       "      <th>NO2_AQI</th>\n",
       "      <th>Ozone_AQI</th>\n",
       "      <th>CO_AQI</th>\n",
       "      <th>SO2_AQI</th>\n",
       "      <th>AQI</th>\n",
       "    </tr>\n",
       "  </thead>\n",
       "  <tbody>\n",
       "    <tr>\n",
       "      <th>0</th>\n",
       "      <td>2024-01-01</td>\n",
       "      <td>199.56</td>\n",
       "      <td>335.12</td>\n",
       "      <td>38.99</td>\n",
       "      <td>56.29</td>\n",
       "      <td>61.65</td>\n",
       "      <td>18.28</td>\n",
       "      <td>9.33</td>\n",
       "      <td>1.60</td>\n",
       "      <td>17.08</td>\n",
       "      <td>...</td>\n",
       "      <td>127.21</td>\n",
       "      <td>741.94</td>\n",
       "      <td>11.83</td>\n",
       "      <td>250.000</td>\n",
       "      <td>250.000000</td>\n",
       "      <td>250.0</td>\n",
       "      <td>250.0</td>\n",
       "      <td>250.0</td>\n",
       "      <td>250.0</td>\n",
       "      <td>250.000000</td>\n",
       "    </tr>\n",
       "    <tr>\n",
       "      <th>1</th>\n",
       "      <td>2024-01-02</td>\n",
       "      <td>195.91</td>\n",
       "      <td>320.67</td>\n",
       "      <td>46.46</td>\n",
       "      <td>62.58</td>\n",
       "      <td>71.07</td>\n",
       "      <td>19.42</td>\n",
       "      <td>22.19</td>\n",
       "      <td>1.77</td>\n",
       "      <td>17.98</td>\n",
       "      <td>...</td>\n",
       "      <td>135.27</td>\n",
       "      <td>741.98</td>\n",
       "      <td>11.54</td>\n",
       "      <td>250.000</td>\n",
       "      <td>250.000000</td>\n",
       "      <td>250.0</td>\n",
       "      <td>250.0</td>\n",
       "      <td>250.0</td>\n",
       "      <td>250.0</td>\n",
       "      <td>250.000000</td>\n",
       "    </tr>\n",
       "    <tr>\n",
       "      <th>2</th>\n",
       "      <td>2024-01-03</td>\n",
       "      <td>247.44</td>\n",
       "      <td>360.37</td>\n",
       "      <td>69.63</td>\n",
       "      <td>71.08</td>\n",
       "      <td>94.41</td>\n",
       "      <td>25.29</td>\n",
       "      <td>16.65</td>\n",
       "      <td>2.18</td>\n",
       "      <td>15.52</td>\n",
       "      <td>...</td>\n",
       "      <td>119.43</td>\n",
       "      <td>742.00</td>\n",
       "      <td>10.76</td>\n",
       "      <td>250.000</td>\n",
       "      <td>253.456667</td>\n",
       "      <td>250.0</td>\n",
       "      <td>250.0</td>\n",
       "      <td>250.0</td>\n",
       "      <td>250.0</td>\n",
       "      <td>253.456667</td>\n",
       "    </tr>\n",
       "    <tr>\n",
       "      <th>3</th>\n",
       "      <td>2024-01-04</td>\n",
       "      <td>274.06</td>\n",
       "      <td>436.22</td>\n",
       "      <td>91.01</td>\n",
       "      <td>71.07</td>\n",
       "      <td>111.79</td>\n",
       "      <td>34.86</td>\n",
       "      <td>10.11</td>\n",
       "      <td>1.86</td>\n",
       "      <td>14.38</td>\n",
       "      <td>...</td>\n",
       "      <td>111.25</td>\n",
       "      <td>741.96</td>\n",
       "      <td>11.54</td>\n",
       "      <td>254.812</td>\n",
       "      <td>278.740000</td>\n",
       "      <td>250.0</td>\n",
       "      <td>250.0</td>\n",
       "      <td>250.0</td>\n",
       "      <td>250.0</td>\n",
       "      <td>278.740000</td>\n",
       "    </tr>\n",
       "    <tr>\n",
       "      <th>4</th>\n",
       "      <td>2024-01-05</td>\n",
       "      <td>218.28</td>\n",
       "      <td>345.98</td>\n",
       "      <td>66.03</td>\n",
       "      <td>59.13</td>\n",
       "      <td>85.10</td>\n",
       "      <td>42.52</td>\n",
       "      <td>11.37</td>\n",
       "      <td>2.20</td>\n",
       "      <td>15.25</td>\n",
       "      <td>...</td>\n",
       "      <td>79.26</td>\n",
       "      <td>742.00</td>\n",
       "      <td>12.01</td>\n",
       "      <td>250.000</td>\n",
       "      <td>250.000000</td>\n",
       "      <td>250.0</td>\n",
       "      <td>250.0</td>\n",
       "      <td>250.0</td>\n",
       "      <td>250.0</td>\n",
       "      <td>250.000000</td>\n",
       "    </tr>\n",
       "  </tbody>\n",
       "</table>\n",
       "<p>5 rows × 25 columns</p>\n",
       "</div>"
      ],
      "text/plain": [
       "         Date   PM2.5    PM10     NO    NO2     NOx    NH3    SO2    CO  \\\n",
       "0  2024-01-01  199.56  335.12  38.99  56.29   61.65  18.28   9.33  1.60   \n",
       "1  2024-01-02  195.91  320.67  46.46  62.58   71.07  19.42  22.19  1.77   \n",
       "2  2024-01-03  247.44  360.37  69.63  71.08   94.41  25.29  16.65  2.18   \n",
       "3  2024-01-04  274.06  436.22  91.01  71.07  111.79  34.86  10.11  1.86   \n",
       "4  2024-01-05  218.28  345.98  66.03  59.13   85.10  42.52  11.37  2.20   \n",
       "\n",
       "   Ozone  ...      SR      BP     AT  PM2.5_AQI    PM10_AQI  NO2_AQI  \\\n",
       "0  17.08  ...  127.21  741.94  11.83    250.000  250.000000    250.0   \n",
       "1  17.98  ...  135.27  741.98  11.54    250.000  250.000000    250.0   \n",
       "2  15.52  ...  119.43  742.00  10.76    250.000  253.456667    250.0   \n",
       "3  14.38  ...  111.25  741.96  11.54    254.812  278.740000    250.0   \n",
       "4  15.25  ...   79.26  742.00  12.01    250.000  250.000000    250.0   \n",
       "\n",
       "   Ozone_AQI  CO_AQI  SO2_AQI         AQI  \n",
       "0      250.0   250.0    250.0  250.000000  \n",
       "1      250.0   250.0    250.0  250.000000  \n",
       "2      250.0   250.0    250.0  253.456667  \n",
       "3      250.0   250.0    250.0  278.740000  \n",
       "4      250.0   250.0    250.0  250.000000  \n",
       "\n",
       "[5 rows x 25 columns]"
      ]
     },
     "execution_count": 8,
     "metadata": {},
     "output_type": "execute_result"
    }
   ],
   "source": [
    "df.head()"
   ]
  },
  {
   "cell_type": "code",
   "execution_count": 9,
   "metadata": {
    "id": "iAq_0EieT0-W"
   },
   "outputs": [],
   "source": [
    "df.dropna(inplace=True)\n",
    "\n",
    "\n",
    "features = ['PM2.5', 'PM10', 'NO', 'NO2', 'NOx', 'NH3', 'SO2', 'CO', 'Ozone', 'Benzene', 'Toluene', 'RH', 'WS', 'WD', 'SR', 'BP', 'AT']\n",
    "X = df[features]\n",
    "y = df['AQI']"
   ]
  },
  {
   "cell_type": "code",
   "execution_count": 10,
   "metadata": {
    "id": "2EHwMeBlUAPk"
   },
   "outputs": [
    {
     "data": {
      "text/plain": [
       "['scaler.pkl']"
      ]
     },
     "execution_count": 10,
     "metadata": {},
     "output_type": "execute_result"
    }
   ],
   "source": [
    "scaler = StandardScaler()\n",
    "X_scaled = scaler.fit_transform(X)\n",
    "joblib.dump(scaler, \"scaler.pkl\")\n"
   ]
  },
  {
   "cell_type": "code",
   "execution_count": 11,
   "metadata": {
    "id": "Doc5L_wIUu_H"
   },
   "outputs": [],
   "source": [
    "X_train, X_test, y_train, y_test = train_test_split(X_scaled, y, test_size=0.2, random_state=42)\n",
    "\n"
   ]
  },
  {
   "cell_type": "code",
   "execution_count": 12,
   "metadata": {
    "colab": {
     "base_uri": "https://localhost:8080/"
    },
    "id": "xXgLxy0nUwvd",
    "outputId": "90752d86-dd6d-4e67-f836-b228a7dcd349"
   },
   "outputs": [
    {
     "name": "stdout",
     "output_type": "stream",
     "text": [
      "Linear Regression - MSE: 84.48073545774704, R²: 0.8091566571012159\n",
      "Random Forest - MSE: 0.09487867687481533, R²: 0.9997856675398659\n",
      "XGBoost - MSE: 0.5556182036349663, R²: 0.9987448495235917\n"
     ]
    }
   ],
   "source": [
    "# 1. Linear Regression\n",
    "lr_model = LinearRegression()\n",
    "lr_model.fit(X_train, y_train)\n",
    "lr_pred = lr_model.predict(X_test)\n",
    "lr_mse = mean_squared_error(y_test, lr_pred)\n",
    "lr_r2 = r2_score(y_test, lr_pred)\n",
    "print(f\"Linear Regression - MSE: {lr_mse}, R²: {lr_r2}\")\n",
    "\n",
    "# 2. Random Forest Regressor\n",
    "rf_model = RandomForestRegressor(n_estimators=100, random_state=42)\n",
    "rf_model.fit(X_train, y_train)\n",
    "rf_pred = rf_model.predict(X_test)\n",
    "rf_mse = mean_squared_error(y_test, rf_pred)\n",
    "rf_r2 = r2_score(y_test, rf_pred)\n",
    "print(f\"Random Forest - MSE: {rf_mse}, R²: {rf_r2}\")\n",
    "\n",
    "# 3. XGBoost Regressor\n",
    "xgb_model = XGBRegressor(n_estimators=100, random_state=42)\n",
    "xgb_model.fit(X_train, y_train)\n",
    "xgb_pred = xgb_model.predict(X_test)\n",
    "xgb_mse = mean_squared_error(y_test, xgb_pred)\n",
    "xgb_r2 = r2_score(y_test, xgb_pred)\n",
    "print(f\"XGBoost - MSE: {xgb_mse}, R²: {xgb_r2}\")"
   ]
  },
  {
   "cell_type": "code",
   "execution_count": 13,
   "metadata": {
    "colab": {
     "base_uri": "https://localhost:8080/"
    },
    "id": "8Od8_J2Mc1K8",
    "outputId": "df6c78e8-888b-4727-a6a0-fe681e5aab3e"
   },
   "outputs": [
    {
     "name": "stdout",
     "output_type": "stream",
     "text": [
      "Best model based on MSE: Random Forest with MSE: 0.09487867687481533, R²: 0.9997856675398659\n"
     ]
    }
   ],
   "source": [
    "model_comparisons = {\n",
    "    'Linear Regression': (lr_mse, lr_r2),\n",
    "    'Random Forest': (rf_mse, rf_r2),\n",
    "    'XGBoost': (xgb_mse, xgb_r2),\n",
    "}\n",
    "\n",
    "best_model_name, (best_mse, best_r2) = min(model_comparisons.items(), key=lambda x: x[1][0])\n",
    "print(f\"Best model based on MSE: {best_model_name} with MSE: {best_mse}, R²: {best_r2}\")\n"
   ]
  },
  {
   "cell_type": "code",
   "execution_count": 14,
   "metadata": {
    "id": "qbU2ulBRc5OO"
   },
   "outputs": [],
   "source": [
    "if best_model_name == 'Random Forest':\n",
    "    best_model = rf_model\n",
    "elif best_model_name == 'XGBoost':\n",
    "    best_model = xgb_model\n",
    "else:\n",
    "    best_model = lr_model\n"
   ]
  },
  {
   "cell_type": "code",
   "execution_count": 15,
   "metadata": {
    "colab": {
     "base_uri": "https://localhost:8080/",
     "height": 564
    },
    "id": "TtHImqRTUy1x",
    "outputId": "0c0ae6b1-dad2-4323-8eff-03d80bd984e2"
   },
   "outputs": [
    {
     "data": {
      "image/png": "[encoded data removed]",
      "text/plain": [
       "<Figure size 1000x600 with 1 Axes>"
      ]
     },
     "metadata": {},
     "output_type": "display_data"
    }
   ],
   "source": [
    "plt.figure(figsize=(10, 6))\n",
    "plt.scatter(y_test, best_model.predict(X_test), label='Predicted AQI')\n",
    "plt.plot([0, 500], [0, 500], color='red', linestyle='--')  # Ideal line (perfect prediction)\n",
    "plt.xlabel('Actual AQI')\n",
    "plt.ylabel('Predicted AQI')\n",
    "plt.title(f'Actual vs Predicted AQI - {best_model_name}')\n",
    "plt.legend()\n",
    "plt.show()"
   ]
  },
  {
   "cell_type": "code",
   "execution_count": 16,
   "metadata": {
    "colab": {
     "base_uri": "https://localhost:8080/"
    },
    "id": "HN442_YMU2dN",
    "outputId": "c1ae497f-5e13-455b-a342-92dddae8dfd2"
   },
   "outputs": [
    {
     "data": {
      "text/plain": [
       "['best_aqi_predictor_model.pkl']"
      ]
     },
     "execution_count": 16,
     "metadata": {},
     "output_type": "execute_result"
    }
   ],
   "source": [
    "\n",
    "joblib.dump(rf_model, \"best_aqi_predictor_model.pkl\")\n"
   ]
  },
  {
   "cell_type": "code",
   "execution_count": 17,
   "metadata": {
    "colab": {
     "base_uri": "https://localhost:8080/"
    },
    "id": "SNysGVvcU53T",
    "outputId": "4ccafe68-303a-4ee7-ce3e-0ac4915a4a73"
   },
   "outputs": [
    {
     "name": "stderr",
     "output_type": "stream",
     "text": [
      "c:\\Users\\rebel\\anaconda3\\envs\\aqi_forecasting\\Lib\\site-packages\\statsmodels\\tsa\\base\\tsa_model.py:473: ValueWarning: An unsupported index was provided. As a result, forecasts cannot be generated. To use the model for forecasting, use one of the supported classes of index.\n",
      "  self._init_dates(dates, freq)\n",
      "c:\\Users\\rebel\\anaconda3\\envs\\aqi_forecasting\\Lib\\site-packages\\statsmodels\\tsa\\base\\tsa_model.py:837: ValueWarning: No supported index is available. Prediction results will be given with an integer index beginning at `start`.\n",
      "  return get_prediction_index(\n",
      "c:\\Users\\rebel\\anaconda3\\envs\\aqi_forecasting\\Lib\\site-packages\\statsmodels\\tsa\\base\\tsa_model.py:837: FutureWarning: No supported index is available. In the next version, calling this method in a model without a supported index will result in an exception.\n",
      "  return get_prediction_index(\n",
      "c:\\Users\\rebel\\anaconda3\\envs\\aqi_forecasting\\Lib\\site-packages\\statsmodels\\tsa\\base\\tsa_model.py:473: ValueWarning: An unsupported index was provided. As a result, forecasts cannot be generated. To use the model for forecasting, use one of the supported classes of index.\n",
      "  self._init_dates(dates, freq)\n",
      "c:\\Users\\rebel\\anaconda3\\envs\\aqi_forecasting\\Lib\\site-packages\\statsmodels\\tsa\\base\\tsa_model.py:837: ValueWarning: No supported index is available. Prediction results will be given with an integer index beginning at `start`.\n",
      "  return get_prediction_index(\n",
      "c:\\Users\\rebel\\anaconda3\\envs\\aqi_forecasting\\Lib\\site-packages\\statsmodels\\tsa\\base\\tsa_model.py:837: FutureWarning: No supported index is available. In the next version, calling this method in a model without a supported index will result in an exception.\n",
      "  return get_prediction_index(\n",
      "c:\\Users\\rebel\\anaconda3\\envs\\aqi_forecasting\\Lib\\site-packages\\statsmodels\\tsa\\base\\tsa_model.py:473: ValueWarning: An unsupported index was provided. As a result, forecasts cannot be generated. To use the model for forecasting, use one of the supported classes of index.\n",
      "  self._init_dates(dates, freq)\n",
      "c:\\Users\\rebel\\anaconda3\\envs\\aqi_forecasting\\Lib\\site-packages\\statsmodels\\tsa\\base\\tsa_model.py:837: ValueWarning: No supported index is available. Prediction results will be given with an integer index beginning at `start`.\n",
      "  return get_prediction_index(\n",
      "c:\\Users\\rebel\\anaconda3\\envs\\aqi_forecasting\\Lib\\site-packages\\statsmodels\\tsa\\base\\tsa_model.py:837: FutureWarning: No supported index is available. In the next version, calling this method in a model without a supported index will result in an exception.\n",
      "  return get_prediction_index(\n",
      "c:\\Users\\rebel\\anaconda3\\envs\\aqi_forecasting\\Lib\\site-packages\\statsmodels\\tsa\\base\\tsa_model.py:473: ValueWarning: An unsupported index was provided. As a result, forecasts cannot be generated. To use the model for forecasting, use one of the supported classes of index.\n",
      "  self._init_dates(dates, freq)\n",
      "c:\\Users\\rebel\\anaconda3\\envs\\aqi_forecasting\\Lib\\site-packages\\statsmodels\\tsa\\base\\tsa_model.py:837: ValueWarning: No supported index is available. Prediction results will be given with an integer index beginning at `start`.\n",
      "  return get_prediction_index(\n",
      "c:\\Users\\rebel\\anaconda3\\envs\\aqi_forecasting\\Lib\\site-packages\\statsmodels\\tsa\\base\\tsa_model.py:837: FutureWarning: No supported index is available. In the next version, calling this method in a model without a supported index will result in an exception.\n",
      "  return get_prediction_index(\n",
      "c:\\Users\\rebel\\anaconda3\\envs\\aqi_forecasting\\Lib\\site-packages\\statsmodels\\tsa\\base\\tsa_model.py:473: ValueWarning: An unsupported index was provided. As a result, forecasts cannot be generated. To use the model for forecasting, use one of the supported classes of index.\n",
      "  self._init_dates(dates, freq)\n",
      "c:\\Users\\rebel\\anaconda3\\envs\\aqi_forecasting\\Lib\\site-packages\\statsmodels\\tsa\\base\\tsa_model.py:837: ValueWarning: No supported index is available. Prediction results will be given with an integer index beginning at `start`.\n",
      "  return get_prediction_index(\n",
      "c:\\Users\\rebel\\anaconda3\\envs\\aqi_forecasting\\Lib\\site-packages\\statsmodels\\tsa\\base\\tsa_model.py:837: FutureWarning: No supported index is available. In the next version, calling this method in a model without a supported index will result in an exception.\n",
      "  return get_prediction_index(\n",
      "c:\\Users\\rebel\\anaconda3\\envs\\aqi_forecasting\\Lib\\site-packages\\statsmodels\\tsa\\base\\tsa_model.py:473: ValueWarning: An unsupported index was provided. As a result, forecasts cannot be generated. To use the model for forecasting, use one of the supported classes of index.\n",
      "  self._init_dates(dates, freq)\n",
      "c:\\Users\\rebel\\anaconda3\\envs\\aqi_forecasting\\Lib\\site-packages\\statsmodels\\tsa\\base\\tsa_model.py:837: ValueWarning: No supported index is available. Prediction results will be given with an integer index beginning at `start`.\n",
      "  return get_prediction_index(\n",
      "c:\\Users\\rebel\\anaconda3\\envs\\aqi_forecasting\\Lib\\site-packages\\statsmodels\\tsa\\base\\tsa_model.py:837: FutureWarning: No supported index is available. In the next version, calling this method in a model without a supported index will result in an exception.\n",
      "  return get_prediction_index(\n",
      "c:\\Users\\rebel\\anaconda3\\envs\\aqi_forecasting\\Lib\\site-packages\\statsmodels\\tsa\\base\\tsa_model.py:473: ValueWarning: An unsupported index was provided. As a result, forecasts cannot be generated. To use the model for forecasting, use one of the supported classes of index.\n",
      "  self._init_dates(dates, freq)\n",
      "c:\\Users\\rebel\\anaconda3\\envs\\aqi_forecasting\\Lib\\site-packages\\statsmodels\\tsa\\base\\tsa_model.py:837: ValueWarning: No supported index is available. Prediction results will be given with an integer index beginning at `start`.\n",
      "  return get_prediction_index(\n",
      "c:\\Users\\rebel\\anaconda3\\envs\\aqi_forecasting\\Lib\\site-packages\\statsmodels\\tsa\\base\\tsa_model.py:837: FutureWarning: No supported index is available. In the next version, calling this method in a model without a supported index will result in an exception.\n",
      "  return get_prediction_index(\n",
      "c:\\Users\\rebel\\anaconda3\\envs\\aqi_forecasting\\Lib\\site-packages\\statsmodels\\tsa\\base\\tsa_model.py:473: ValueWarning: An unsupported index was provided. As a result, forecasts cannot be generated. To use the model for forecasting, use one of the supported classes of index.\n",
      "  self._init_dates(dates, freq)\n",
      "c:\\Users\\rebel\\anaconda3\\envs\\aqi_forecasting\\Lib\\site-packages\\statsmodels\\tsa\\base\\tsa_model.py:837: ValueWarning: No supported index is available. Prediction results will be given with an integer index beginning at `start`.\n",
      "  return get_prediction_index(\n",
      "c:\\Users\\rebel\\anaconda3\\envs\\aqi_forecasting\\Lib\\site-packages\\statsmodels\\tsa\\base\\tsa_model.py:837: FutureWarning: No supported index is available. In the next version, calling this method in a model without a supported index will result in an exception.\n",
      "  return get_prediction_index(\n",
      "c:\\Users\\rebel\\anaconda3\\envs\\aqi_forecasting\\Lib\\site-packages\\statsmodels\\tsa\\base\\tsa_model.py:473: ValueWarning: An unsupported index was provided. As a result, forecasts cannot be generated. To use the model for forecasting, use one of the supported classes of index.\n",
      "  self._init_dates(dates, freq)\n",
      "c:\\Users\\rebel\\anaconda3\\envs\\aqi_forecasting\\Lib\\site-packages\\statsmodels\\tsa\\base\\tsa_model.py:837: ValueWarning: No supported index is available. Prediction results will be given with an integer index beginning at `start`.\n",
      "  return get_prediction_index(\n",
      "c:\\Users\\rebel\\anaconda3\\envs\\aqi_forecasting\\Lib\\site-packages\\statsmodels\\tsa\\base\\tsa_model.py:837: FutureWarning: No supported index is available. In the next version, calling this method in a model without a supported index will result in an exception.\n",
      "  return get_prediction_index(\n",
      "c:\\Users\\rebel\\anaconda3\\envs\\aqi_forecasting\\Lib\\site-packages\\statsmodels\\tsa\\base\\tsa_model.py:473: ValueWarning: An unsupported index was provided. As a result, forecasts cannot be generated. To use the model for forecasting, use one of the supported classes of index.\n",
      "  self._init_dates(dates, freq)\n",
      "c:\\Users\\rebel\\anaconda3\\envs\\aqi_forecasting\\Lib\\site-packages\\statsmodels\\tsa\\base\\tsa_model.py:837: ValueWarning: No supported index is available. Prediction results will be given with an integer index beginning at `start`.\n",
      "  return get_prediction_index(\n",
      "c:\\Users\\rebel\\anaconda3\\envs\\aqi_forecasting\\Lib\\site-packages\\statsmodels\\tsa\\base\\tsa_model.py:837: FutureWarning: No supported index is available. In the next version, calling this method in a model without a supported index will result in an exception.\n",
      "  return get_prediction_index(\n",
      "c:\\Users\\rebel\\anaconda3\\envs\\aqi_forecasting\\Lib\\site-packages\\statsmodels\\tsa\\base\\tsa_model.py:473: ValueWarning: An unsupported index was provided. As a result, forecasts cannot be generated. To use the model for forecasting, use one of the supported classes of index.\n",
      "  self._init_dates(dates, freq)\n",
      "c:\\Users\\rebel\\anaconda3\\envs\\aqi_forecasting\\Lib\\site-packages\\statsmodels\\tsa\\base\\tsa_model.py:837: ValueWarning: No supported index is available. Prediction results will be given with an integer index beginning at `start`.\n",
      "  return get_prediction_index(\n",
      "c:\\Users\\rebel\\anaconda3\\envs\\aqi_forecasting\\Lib\\site-packages\\statsmodels\\tsa\\base\\tsa_model.py:837: FutureWarning: No supported index is available. In the next version, calling this method in a model without a supported index will result in an exception.\n",
      "  return get_prediction_index(\n",
      "c:\\Users\\rebel\\anaconda3\\envs\\aqi_forecasting\\Lib\\site-packages\\statsmodels\\tsa\\base\\tsa_model.py:473: ValueWarning: An unsupported index was provided. As a result, forecasts cannot be generated. To use the model for forecasting, use one of the supported classes of index.\n",
      "  self._init_dates(dates, freq)\n",
      "c:\\Users\\rebel\\anaconda3\\envs\\aqi_forecasting\\Lib\\site-packages\\statsmodels\\tsa\\base\\tsa_model.py:837: ValueWarning: No supported index is available. Prediction results will be given with an integer index beginning at `start`.\n",
      "  return get_prediction_index(\n",
      "c:\\Users\\rebel\\anaconda3\\envs\\aqi_forecasting\\Lib\\site-packages\\statsmodels\\tsa\\base\\tsa_model.py:837: FutureWarning: No supported index is available. In the next version, calling this method in a model without a supported index will result in an exception.\n",
      "  return get_prediction_index(\n",
      "c:\\Users\\rebel\\anaconda3\\envs\\aqi_forecasting\\Lib\\site-packages\\statsmodels\\tsa\\base\\tsa_model.py:473: ValueWarning: An unsupported index was provided. As a result, forecasts cannot be generated. To use the model for forecasting, use one of the supported classes of index.\n",
      "  self._init_dates(dates, freq)\n",
      "c:\\Users\\rebel\\anaconda3\\envs\\aqi_forecasting\\Lib\\site-packages\\statsmodels\\tsa\\base\\tsa_model.py:837: ValueWarning: No supported index is available. Prediction results will be given with an integer index beginning at `start`.\n",
      "  return get_prediction_index(\n",
      "c:\\Users\\rebel\\anaconda3\\envs\\aqi_forecasting\\Lib\\site-packages\\statsmodels\\tsa\\base\\tsa_model.py:837: FutureWarning: No supported index is available. In the next version, calling this method in a model without a supported index will result in an exception.\n",
      "  return get_prediction_index(\n",
      "c:\\Users\\rebel\\anaconda3\\envs\\aqi_forecasting\\Lib\\site-packages\\statsmodels\\tsa\\base\\tsa_model.py:473: ValueWarning: An unsupported index was provided. As a result, forecasts cannot be generated. To use the model for forecasting, use one of the supported classes of index.\n",
      "  self._init_dates(dates, freq)\n",
      "c:\\Users\\rebel\\anaconda3\\envs\\aqi_forecasting\\Lib\\site-packages\\statsmodels\\tsa\\base\\tsa_model.py:837: ValueWarning: No supported index is available. Prediction results will be given with an integer index beginning at `start`.\n",
      "  return get_prediction_index(\n",
      "c:\\Users\\rebel\\anaconda3\\envs\\aqi_forecasting\\Lib\\site-packages\\statsmodels\\tsa\\base\\tsa_model.py:837: FutureWarning: No supported index is available. In the next version, calling this method in a model without a supported index will result in an exception.\n",
      "  return get_prediction_index(\n",
      "c:\\Users\\rebel\\anaconda3\\envs\\aqi_forecasting\\Lib\\site-packages\\statsmodels\\tsa\\base\\tsa_model.py:473: ValueWarning: An unsupported index was provided. As a result, forecasts cannot be generated. To use the model for forecasting, use one of the supported classes of index.\n",
      "  self._init_dates(dates, freq)\n",
      "c:\\Users\\rebel\\anaconda3\\envs\\aqi_forecasting\\Lib\\site-packages\\statsmodels\\tsa\\base\\tsa_model.py:837: ValueWarning: No supported index is available. Prediction results will be given with an integer index beginning at `start`.\n",
      "  return get_prediction_index(\n",
      "c:\\Users\\rebel\\anaconda3\\envs\\aqi_forecasting\\Lib\\site-packages\\statsmodels\\tsa\\base\\tsa_model.py:837: FutureWarning: No supported index is available. In the next version, calling this method in a model without a supported index will result in an exception.\n",
      "  return get_prediction_index(\n",
      "c:\\Users\\rebel\\anaconda3\\envs\\aqi_forecasting\\Lib\\site-packages\\statsmodels\\tsa\\base\\tsa_model.py:473: ValueWarning: An unsupported index was provided. As a result, forecasts cannot be generated. To use the model for forecasting, use one of the supported classes of index.\n",
      "  self._init_dates(dates, freq)\n",
      "c:\\Users\\rebel\\anaconda3\\envs\\aqi_forecasting\\Lib\\site-packages\\statsmodels\\tsa\\base\\tsa_model.py:837: ValueWarning: No supported index is available. Prediction results will be given with an integer index beginning at `start`.\n",
      "  return get_prediction_index(\n",
      "c:\\Users\\rebel\\anaconda3\\envs\\aqi_forecasting\\Lib\\site-packages\\statsmodels\\tsa\\base\\tsa_model.py:837: FutureWarning: No supported index is available. In the next version, calling this method in a model without a supported index will result in an exception.\n",
      "  return get_prediction_index(\n",
      "c:\\Users\\rebel\\anaconda3\\envs\\aqi_forecasting\\Lib\\site-packages\\statsmodels\\tsa\\base\\tsa_model.py:473: ValueWarning: An unsupported index was provided. As a result, forecasts cannot be generated. To use the model for forecasting, use one of the supported classes of index.\n",
      "  self._init_dates(dates, freq)\n",
      "c:\\Users\\rebel\\anaconda3\\envs\\aqi_forecasting\\Lib\\site-packages\\statsmodels\\tsa\\base\\tsa_model.py:837: ValueWarning: No supported index is available. Prediction results will be given with an integer index beginning at `start`.\n",
      "  return get_prediction_index(\n",
      "c:\\Users\\rebel\\anaconda3\\envs\\aqi_forecasting\\Lib\\site-packages\\statsmodels\\tsa\\base\\tsa_model.py:837: FutureWarning: No supported index is available. In the next version, calling this method in a model without a supported index will result in an exception.\n",
      "  return get_prediction_index(\n"
     ]
    }
   ],
   "source": [
    "future_steps = 7\n",
    "\n",
    "forecasted_features = {}\n",
    "for feature in features:\n",
    "    seasonal_periods = 7\n",
    "    try:\n",
    "        model = ExponentialSmoothing(df[feature], trend='add', seasonal='add', seasonal_periods=seasonal_periods)\n",
    "        model_fit = model.fit()\n",
    "        forecasted_features[feature] = model_fit.forecast(future_steps)\n",
    "    except ValueError as e:\n",
    "        print(f\"Error forecasting {feature}: {e}\")\n",
    "        forecasted_features[feature] = [None] * future_steps\n",
    "\n",
    "\n",
    "forecasted_df = pd.DataFrame(forecasted_features)\n",
    "\n",
    "\n",
    "forecasted_features_scaled = scaler.transform(forecasted_df)\n",
    "future_aqi = best_model.predict(forecasted_features_scaled)\n"
   ]
  },
  {
   "cell_type": "code",
   "execution_count": 18,
   "metadata": {
    "colab": {
     "base_uri": "https://localhost:8080/",
     "height": 564
    },
    "id": "6AV-VbZGgzZ-",
    "outputId": "e415ad21-9aeb-4b4e-e380-0442b1fea670"
   },
   "outputs": [
    {
     "data": {
      "image/png": "[encoded data removed]",
      "text/plain": [
       "<Figure size 1200x600 with 1 Axes>"
      ]
     },
     "metadata": {},
     "output_type": "display_data"
    }
   ],
   "source": [
    "plt.figure(figsize=(12, 6))\n",
    "for feature, values in forecasted_features.items():\n",
    "    plt.plot(np.arange(future_steps), values, label=feature)\n",
    "plt.xlabel('Forecasted Days')\n",
    "plt.ylabel('Values')\n",
    "plt.title('Forecasted Features for the Next 7 Days')\n",
    "plt.legend()\n",
    "plt.show()"
   ]
  },
  {
   "cell_type": "code",
   "execution_count": 19,
   "metadata": {
    "colab": {
     "base_uri": "https://localhost:8080/"
    },
    "id": "MgXUnLpoVhHl",
    "outputId": "ca7d78a9-fddc-4550-e181-dc0db4f622df"
   },
   "outputs": [
    {
     "name": "stdout",
     "output_type": "stream",
     "text": [
      "          PM2.5        PM10         NO         NO2         NOx        NH3  \\\n",
      "299  101.259679  290.952922  10.325501  189.868188  116.142414  48.388475   \n",
      "300   86.242737  261.012829   2.916173  179.826565   96.116497  45.074460   \n",
      "301  112.611395  303.385700   2.193885  182.590155  103.725938  44.971847   \n",
      "302   74.411267  285.285336  -1.875555  183.434110  105.491944  45.258446   \n",
      "303   72.907734  280.686852  -7.414265  184.569943   98.349268  43.462537   \n",
      "304   61.352264  277.407430   5.234343  190.451662  115.921930  47.254767   \n",
      "305   69.351894  274.187877   2.492109  187.153183  109.691419  47.893943   \n",
      "\n",
      "           SO2        CO      Ozone   Benzene   Toluene         RH        WS  \\\n",
      "299  12.569242  2.363143  10.440874  0.217557  4.111656  52.801842  0.796291   \n",
      "300  12.038517  2.273433  14.792398  0.117316  1.516373  53.673917  0.755093   \n",
      "301  12.839941  2.544225  16.194754  0.320521  4.079913  53.423298  0.646079   \n",
      "302  13.134323  2.483080  13.539926  0.407732  2.932692  52.806284  0.599344   \n",
      "303  12.075565  2.258682  15.957548  0.114009  2.615106  51.604572  0.667735   \n",
      "304  14.581404  2.424699   6.261641  0.194252  3.427490  52.132520  0.710763   \n",
      "305  14.911079  2.338858   5.843050  0.150777  2.421823  52.392298  0.845176   \n",
      "\n",
      "             WD          SR          BP         AT    AQI  \n",
      "299  214.487633  118.017823  739.985652  24.414356  250.0  \n",
      "300  223.877563  118.440384  739.939912  24.336627  250.0  \n",
      "301  198.606214  124.299652  739.732295  24.540041  250.0  \n",
      "302  202.243801  117.548672  739.980771  24.577329  250.0  \n",
      "303  201.449602  114.966646  739.803380  24.425307  250.0  \n",
      "304  199.006884  113.169458  739.957838  24.513284  250.0  \n",
      "305  206.905709  118.007968  739.918725  24.619716  250.0  \n"
     ]
    }
   ],
   "source": [
    "forecasted_df['AQI'] = future_aqi\n",
    "print(forecasted_df)\n",
    "forecasted_df.to_csv(\"forecasted_aqi.csv\", index=False)"
   ]
  },
  {
   "cell_type": "code",
   "execution_count": 20,
   "metadata": {
    "colab": {
     "base_uri": "https://localhost:8080/",
     "height": 564
    },
    "id": "b_gZVbQqncSt",
    "outputId": "ea96188e-5c47-47f2-bdab-573e4f79656f"
   },
   "outputs": [
    {
     "data": {
      "image/png": "[encoded data removed]",
      "text/plain": [
       "<Figure size 1000x600 with 1 Axes>"
      ]
     },
     "metadata": {},
     "output_type": "display_data"
    }
   ],
   "source": [
    "plt.figure(figsize=(10, 6))\n",
    "plt.plot(forecasted_df.index, forecasted_df['AQI'], label='Forecasted AQI', color='orange')\n",
    "plt.xlabel('Days Ahead')\n",
    "plt.ylabel('Forecasted AQI')\n",
    "plt.title('Forecasted AQI for the Next 7 Days')\n",
    "plt.legend()\n",
    "plt.show()"
   ]
  },
  {
   "cell_type": "code",
   "execution_count": 21,
   "metadata": {
    "colab": {
     "base_uri": "https://localhost:8080/",
     "height": 745
    },
    "id": "YCGNax-Cncxq",
    "outputId": "3af73cc7-a000-4af8-d82b-d2c7f4d7f62f"
   },
   "outputs": [
    {
     "ename": "NameError",
     "evalue": "name 'target' is not defined",
     "output_type": "error",
     "traceback": [
      "\u001b[1;31m---------------------------------------------------------------------------\u001b[0m",
      "\u001b[1;31mNameError\u001b[0m                                 Traceback (most recent call last)",
      "Cell \u001b[1;32mIn[21], line 1\u001b[0m\n\u001b[1;32m----> 1\u001b[0m correlation_matrix \u001b[38;5;241m=\u001b[39m df[features \u001b[38;5;241m+\u001b[39m [\u001b[43mtarget\u001b[49m]]\u001b[38;5;241m.\u001b[39mcorr()\n\u001b[0;32m      2\u001b[0m plt\u001b[38;5;241m.\u001b[39mfigure(figsize\u001b[38;5;241m=\u001b[39m(\u001b[38;5;241m12\u001b[39m, \u001b[38;5;241m8\u001b[39m))\n\u001b[0;32m      3\u001b[0m sns\u001b[38;5;241m.\u001b[39mheatmap(correlation_matrix, annot\u001b[38;5;241m=\u001b[39m\u001b[38;5;28;01mTrue\u001b[39;00m, cmap\u001b[38;5;241m=\u001b[39m\u001b[38;5;124m'\u001b[39m\u001b[38;5;124mcoolwarm\u001b[39m\u001b[38;5;124m'\u001b[39m, fmt\u001b[38;5;241m=\u001b[39m\u001b[38;5;124m\"\u001b[39m\u001b[38;5;124m.2f\u001b[39m\u001b[38;5;124m\"\u001b[39m, linewidths\u001b[38;5;241m=\u001b[39m\u001b[38;5;241m0.5\u001b[39m, cbar_kws\u001b[38;5;241m=\u001b[39m{\u001b[38;5;124m'\u001b[39m\u001b[38;5;124mshrink\u001b[39m\u001b[38;5;124m'\u001b[39m: \u001b[38;5;241m0.8\u001b[39m})\n",
      "\u001b[1;31mNameError\u001b[0m: name 'target' is not defined"
     ]
    }
   ],
   "source": [
    "correlation_matrix = df[features + [target]].corr()\n",
    "plt.figure(figsize=(12, 8))\n",
    "sns.heatmap(correlation_matrix, annot=True, cmap='coolwarm', fmt=\".2f\", linewidths=0.5, cbar_kws={'shrink': 0.8})\n",
    "plt.title('Correlation Heatmap of Features and AQI')\n",
    "plt.show()"
   ]
  },
  {
   "cell_type": "code",
   "execution_count": 22,
   "metadata": {
    "id": "WHX7cyFNnern"
   },
   "outputs": [
    {
     "name": "stdout",
     "output_type": "stream",
     "text": [
      "Scaler expects: 17 features\n"
     ]
    }
   ],
   "source": [
    "print(\"Scaler expects:\", scaler.mean_.shape[0], \"features\")\n"
   ]
  },
  {
   "cell_type": "code",
   "execution_count": null,
   "metadata": {},
   "outputs": [],
   "source": []
  }
 ],
 "metadata": {
  "colab": {
   "authorship_tag": "ABX9TyPvW3Q6tHV9QoL2SzCWDsrL",
   "include_colab_link": true,
   "provenance": []
  },
  "kernelspec": {
   "display_name": "aqi_forecasting",
   "language": "python",
   "name": "python3"
  },
  "language_info": {
   "codemirror_mode": {
    "name": "ipython",
    "version": 3
   },
   "file_extension": ".py",
   "mimetype": "text/x-python",
   "name": "python",
   "nbconvert_exporter": "python",
   "pygments_lexer": "ipython3",
   "version": "3.11.10"
  }
 },
 "nbformat": 4,
 "nbformat_minor": 0
}
