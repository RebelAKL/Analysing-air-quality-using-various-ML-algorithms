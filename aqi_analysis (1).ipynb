{
 "cells": [
  {
   "cell_type": "code",
   "execution_count": null,
   "metadata": {
    "colab": {
     "background_save": true
    },
    "id": "qeiW6hO7HMMG",
    "outputId": "b8d2587b-e116-4770-893d-89dfe62922da"
   },
   "outputs": [],
   "source": [
    "import pandas as pd\n",
    "import numpy as np\n",
    "import xgboost as xgb\n",
    "import matplotlib.pyplot as plt\n",
    "import seaborn as sns\n",
    "from sklearn.model_selection import train_test_split, cross_val_score\n",
    "from sklearn.metrics import mean_squared_error, r2_score\n",
    "from sklearn.impute import SimpleImputer\n",
    "from sklearn.preprocessing import StandardScaler\n",
    "from sklearn.model_selection import cross_val_score\n",
    "from sklearn.model_selection import GridSearchCV\n",
    "import lightgbm as lgb\n",
    "from sklearn.ensemble import RandomForestRegressor"
   ]
  },
  {
   "cell_type": "code",
   "execution_count": null,
   "metadata": {
    "id": "RnJSIoCmH7y-"
   },
   "outputs": [],
   "source": [
    "df=pd.read_csv('/content/ananadvihar(8hr).csv')"
   ]
  },
  {
   "cell_type": "code",
   "execution_count": null,
   "metadata": {
    "colab": {
     "base_uri": "https://localhost:8080/",
     "height": 353
    },
    "id": "JSJZkMloH_p8",
    "outputId": "7b3065c1-72cd-4ff0-fb11-c81c34a81540"
   },
   "outputs": [],
   "source": [
    "data.head()"
   ]
  },
  {
   "cell_type": "code",
   "execution_count": null,
   "metadata": {
    "colab": {
     "base_uri": "https://localhost:8080/"
    },
    "id": "jB96ctxhlErg",
    "outputId": "d12146dc-7e1e-4286-a9f8-d0bc75f002b0"
   },
   "outputs": [],
   "source": [
    "print(data.head())\n",
    "\n",
    "print(data.isnull().sum())"
   ]
  },
  {
   "cell_type": "code",
   "execution_count": null,
   "metadata": {
    "colab": {
     "base_uri": "https://localhost:8080/",
     "height": 510
    },
    "id": "b42iVJgmsTWr",
    "outputId": "23dde172-f116-4834-ae3c-f01c17bbc00d"
   },
   "outputs": [],
   "source": [
    "sns.heatmap(data.isnull(), cbar=False, cmap='viridis')\n",
    "plt.title(\"Missing Values in Dataset\")\n",
    "plt.show()"
   ]
  },
  {
   "cell_type": "code",
   "execution_count": null,
   "metadata": {
    "id": "NJOgOV42JjKi"
   },
   "outputs": [],
   "source": [
    "def calculate_individual_aqi(concentration, breakpoints):\n",
    "\n",
    "    for i in range(len(breakpoints) - 1):\n",
    "        if concentration >= breakpoints[i][0] and concentration < breakpoints[i + 1][0]:\n",
    "            C_low, C_high = breakpoints[i]\n",
    "            I_low, I_high = breakpoints[i + 1]\n",
    "\n",
    "            aqi = ((concentration - C_low) / (C_high - C_low)) * (I_high - I_low) + I_low\n",
    "            return aqi\n",
    "\n",
    "    return 500\n",
    "\n",
    "def calculate_overall_aqi(row):\n",
    "\n",
    "    pm25_breakpoints = [(0, 30), (30, 60), (60, 90), (90, 120), (120, 250), (250, 500)]\n",
    "    pm10_breakpoints = [(0, 50), (50, 100), (100, 150), (150, 200), (200, 350), (350, 500)]\n",
    "    so2_breakpoints = [(0, 40), (40, 80), (80, 380), (380, 800), (800, 1600), (1600, 3200)]\n",
    "    no2_breakpoints = [(0, 40), (40, 80), (80, 180), (180, 280), (280, 400), (400, 600)]\n",
    "    ozone_breakpoints = [(0, 50), (50, 100), (100, 140), (140, 180), (180, 240), (240, 300)]\n",
    "\n",
    "    pm25_aqi = calculate_individual_aqi(row['PM2.5'], pm25_breakpoints)\n",
    "    pm10_aqi = calculate_individual_aqi(row['PM10'], pm10_breakpoints)\n",
    "    so2_aqi = calculate_individual_aqi(row['SO2'], so2_breakpoints)\n",
    "    no2_aqi = calculate_individual_aqi(row['NO2'], no2_breakpoints)\n",
    "    ozone_aqi = calculate_individual_aqi(row['Ozone'], ozone_breakpoints)\n",
    "\n",
    "\n",
    "    overall_aqi = max(pm25_aqi, pm10_aqi, so2_aqi, no2_aqi, ozone_aqi)\n",
    "\n",
    "    return overall_aqi\n"
   ]
  },
  {
   "cell_type": "code",
   "execution_count": null,
   "metadata": {
    "id": "HK4XPChqQDIJ"
   },
   "outputs": [],
   "source": [
    "imputer = SimpleImputer(strategy='median')\n",
    "data_imputed = pd.DataFrame(imputer.fit_transform(data[['PM2.5', 'PM10', 'SO2', 'NO2', 'Ozone']]))\n",
    "data_imputed.columns = ['PM2.5', 'PM10', 'SO2', 'NO2', 'Ozone']\n"
   ]
  },
  {
   "cell_type": "code",
   "execution_count": null,
   "metadata": {
    "id": "s2nNFPELq22N"
   },
   "outputs": [],
   "source": [
    "data_imputed['Overall_AQI'] = data_imputed.apply(calculate_overall_aqi, axis=1)\n"
   ]
  },
  {
   "cell_type": "code",
   "execution_count": null,
   "metadata": {
    "id": "3T1Wo7E8rLub"
   },
   "outputs": [],
   "source": [
    "data_imputed['lag_1'] = data_imputed['Overall_AQI'].shift(1)\n",
    "data_imputed['lag_2'] = data_imputed['Overall_AQI'].shift(2)\n",
    "data_imputed['lag_3'] = data_imputed['Overall_AQI'].shift(3)"
   ]
  },
  {
   "cell_type": "code",
   "execution_count": null,
   "metadata": {
    "id": "bNY_-vhoq6V5"
   },
   "outputs": [],
   "source": [
    "data_imputed = data_imputed.dropna()"
   ]
  },
  {
   "cell_type": "code",
   "execution_count": null,
   "metadata": {
    "id": "76QIxCjwQJ7O"
   },
   "outputs": [],
   "source": [
    "X = data_imputed[['lag_1', 'lag_2', 'lag_3']]\n",
    "y = data_imputed['Overall_AQI']"
   ]
  },
  {
   "cell_type": "code",
   "execution_count": null,
   "metadata": {
    "id": "ib_m4AQ7Ty1D"
   },
   "outputs": [],
   "source": [
    "X_train, X_test, y_train, y_test = train_test_split(X, y, test_size=0.2, random_state=42)\n"
   ]
  },
  {
   "cell_type": "code",
   "execution_count": null,
   "metadata": {
    "id": "VuolTJgOdS_M"
   },
   "outputs": [],
   "source": [
    "scaler = StandardScaler()\n",
    "X_train_scaled = scaler.fit_transform(X_train)\n",
    "X_test_scaled = scaler.transform(X_test)\n"
   ]
  },
  {
   "cell_type": "code",
   "execution_count": null,
   "metadata": {
    "id": "IHEm1fbInuuB"
   },
   "outputs": [],
   "source": [
    "xgb_model = xgb.XGBRegressor(n_estimators=1000,\n",
    "                             learning_rate=0.01,\n",
    "                             max_depth=6,\n",
    "                             subsample=0.8,\n",
    "                             colsample_bytree=0.8,\n",
    "                             early_stopping_rounds=10,\n",
    "                             objective='reg:squarederror')\n"
   ]
  },
  {
   "cell_type": "code",
   "execution_count": null,
   "metadata": {
    "colab": {
     "base_uri": "https://localhost:8080/"
    },
    "id": "IS1BADwLdS7A",
    "outputId": "fd1e4103-8254-43b9-f7be-1e92ed654881"
   },
   "outputs": [],
   "source": [
    "xgb_model.fit(X_train_scaled, y_train,\n",
    "              eval_set=[(X_test_scaled, y_test)],\n",
    "              verbose=True)\n",
    "\n",
    "# Predictions\n",
    "y_pred_xgb = xgb_model.predict(X_test_scaled)\n",
    "\n",
    "# Evaluate model performance\n",
    "mse_xgb = mean_squared_error(y_test, y_pred_xgb)\n",
    "r2_xgb = r2_score(y_test, y_pred_xgb)\n",
    "\n",
    "print(f\"XGBoost Model - MSE: {mse_xgb:.2f}, R2: {r2_xgb:.2f}\")\n"
   ]
  },
  {
   "cell_type": "code",
   "execution_count": null,
   "metadata": {
    "colab": {
     "base_uri": "https://localhost:8080/",
     "height": 564
    },
    "id": "BeXDpIjrQhGD",
    "outputId": "1428b423-45d7-45bf-8ddf-7ab0dddc67c8"
   },
   "outputs": [],
   "source": [
    "plt.figure(figsize=(10, 6))\n",
    "plt.plot(y_test.index, y_test, label=\"True AQI\", color='blue')\n",
    "plt.plot(y_test.index, y_pred_xgb, label=\"XGBoost Prediction\", color='red')\n",
    "plt.legend()\n",
    "plt.title('AQI Prediction Comparison using XGBoost')\n",
    "plt.xlabel('Index')\n",
    "plt.ylabel('AQI')\n",
    "plt.show()"
   ]
  },
  {
   "cell_type": "code",
   "execution_count": null,
   "metadata": {
    "colab": {
     "background_save": true,
     "base_uri": "https://localhost:8080/"
    },
    "id": "0Btj-5uUjFPl",
    "outputId": "31434986-13da-4061-c764-ddd92ef5906c"
   },
   "outputs": [],
   "source": [
    "param_grid = {\n",
    "    'n_estimators': [100, 200, 500, 1000],\n",
    "    'learning_rate': [0.01, 0.05, 0.1, 0.2],\n",
    "    'max_depth': [3, 5, 6, 8, 10],\n",
    "    'subsample': [0.6, 0.8, 1.0],\n",
    "    'colsample_bytree': [0.6, 0.8, 1.0],\n",
    "    'alpha': [0, 0.1, 0.5, 1.0],\n",
    "    'lambda': [0, 0.1, 0.5, 1.0]\n",
    "}\n",
    "xgb_model = xgb.XGBRegressor(objective='reg:squarederror')\n",
    "\n",
    "grid_search = GridSearchCV(estimator=xgb_model,\n",
    "                           param_grid=param_grid,\n",
    "                           scoring='neg_mean_squared_error',\n",
    "                           cv=3,\n",
    "                           verbose=1,\n",
    "                           n_jobs=-1)\n",
    "\n",
    "grid_search.fit(X_train_scaled, y_train)\n",
    "print(\"Best parameters found by GridSearchCV:\", grid_search.best_params_)\n",
    "\n",
    "best_xgb_model = grid_search.best_estimator_\n",
    "y_pred_best_xgb = best_xgb_model.predict(X_test_scaled)\n",
    "\n",
    "mse_best_xgb = mean_squared_error(y_test, y_pred_best_xgb)\n",
    "r2_best_xgb = r2_score(y_test, y_pred_best_xgb)\n",
    "\n",
    "print(f\"Best XGBoost Model - MSE: {mse_best_xgb:.2f}, R2: {r2_best_xgb:.2f}\")\n"
   ]
  },
  {
   "cell_type": "code",
   "execution_count": null,
   "metadata": {
    "colab": {
     "base_uri": "https://localhost:8080/"
    },
    "id": "c0827wg6VnR1",
    "outputId": "b7b9c875-3c4b-46db-fcd8-eb381bd828dc"
   },
   "outputs": [],
   "source": [
    "plt.figure(figsize=(10, 6))\n",
    "plt.plot(y_test.index, y_test, label=\"True AQI\", color='blue')\n",
    "plt.plot(y_test.index, y_pred_best_xgb, label=\"Best XGBoost Prediction\", color='green')\n",
    "plt.legend()\n",
    "plt.title('AQI Prediction Comparison using Best XGBoost Model')\n",
    "plt.xlabel('Index')\n",
    "plt.ylabel('AQI')\n",
    "plt.show()"
   ]
  },
  {
   "cell_type": "code",
   "execution_count": null,
   "metadata": {
    "id": "Ifmf_2w1xT67"
   },
   "outputs": [],
   "source": [
    "# Feature Importance\n",
    "plt.figure(figsize=(10, 6))\n",
    "xgb.plot_importance(best_xgb_model, max_num_features=10, importance_type='weight')\n",
    "plt.title('Feature Importance')\n",
    "plt.show()\n"
   ]
  },
  {
   "cell_type": "code",
   "execution_count": null,
   "metadata": {
    "id": "5PhfxzkCxSOO"
   },
   "outputs": [],
   "source": [
    "# Random Forest Model\n",
    "rf_model = RandomForestRegressor(random_state=42)\n",
    "rf_model.fit(X_train_scaled, y_train)\n",
    "y_pred_rf = rf_model.predict(X_test_scaled)\n",
    "\n",
    "rf_mse = mean_squared_error(y_test, y_pred_rf)\n",
    "rf_r2 = r2_score(y_test, y_pred_rf)\n",
    "print(f\"Random Forest - MSE: {rf_mse:.2f}, R2: {rf_r2:.2f}\")"
   ]
  },
  {
   "cell_type": "code",
   "execution_count": null,
   "metadata": {
    "id": "8DP8_eNBx8sa"
   },
   "outputs": [],
   "source": [
    "# LightGBM Model\n",
    "lgb_model = lgb.LGBMRegressor(random_state=42)\n",
    "lgb_model.fit(X_train_scaled, y_train)\n",
    "y_pred_lgb = lgb_model.predict(X_test_scaled)\n",
    "\n",
    "lgb_mse = mean_squared_error(y_test, y_pred_lgb)\n",
    "lgb_r2 = r2_score(y_test, y_pred_lgb)\n",
    "print(f\"LightGBM - MSE: {lgb_mse:.2f}, R2: {lgb_r2:.2f}\")\n"
   ]
  },
  {
   "cell_type": "markdown",
   "metadata": {
    "id": "gNF_J3ce0yba"
   },
   "source": []
  },
  {
   "cell_type": "code",
   "execution_count": null,
   "metadata": {
    "id": "covGKrDG0rgK"
   },
   "outputs": [],
   "source": []
  },
  {
   "cell_type": "code",
   "execution_count": null,
   "metadata": {
    "id": "zPM8kcoGx8ox"
   },
   "outputs": [],
   "source": [
    "models = ['Random Forest', 'LightGBM', 'XGBoost']\n",
    "mse_scores = [rf_mse, lgb_mse, xgb_mse]\n",
    "r2_scores = [rf_r2, lgb_r2, xgb_r2]\n",
    "\n",
    "\n",
    "plt.figure(figsize=(10, 6))\n",
    "sns.barplot(x=models, y=r2_scores, palette='viridis')\n",
    "plt.title('Model Comparison - R2 Scores')\n",
    "plt.ylabel('R2 Score')\n",
    "plt.show()\n",
    "\n",
    "# Visualize the comparison of MSE scores\n",
    "plt.figure(figsize=(10, 6))\n",
    "sns.barplot(x=models, y=mse_scores, palette='magma')\n",
    "plt.title('Model Comparison - MSE Scores')\n",
    "plt.ylabel('Mean Squared Error')\n",
    "plt.show()"
   ]
  },
  {
   "cell_type": "code",
   "execution_count": null,
   "metadata": {
    "id": "-tBjTae1yOML"
   },
   "outputs": [],
   "source": [
    "plt.figure(figsize=(10, 6))\n",
    "plt.plot(y_test.index, y_test, label=\"True AQI\", color='blue')\n",
    "plt.plot(y_test.index, y_pred_xgb, label=\"XGBoost Prediction\", color='green')\n",
    "plt.legend()\n",
    "plt.title('AQI Prediction Comparison using XGBoost')\n",
    "plt.xlabel('Index')\n",
    "plt.ylabel('AQI')\n",
    "plt.show()"
   ]
  },
  {
   "cell_type": "code",
   "execution_count": null,
   "metadata": {
    "id": "HfZ_iGjG0s0X"
   },
   "outputs": [],
   "source": [
    "#Ensemble Model using Voting Regressor\n",
    "ensemble_model = VotingRegressor(estimators=[('rf', rf_model), ('lgb', lgb_model), ('xgb', xgb_model)])\n",
    "ensemble_model.fit(X_train_scaled, y_train)\n",
    "y_pred_ensemble = ensemble_model.predict(X_test_scaled)\n",
    "ensemble_mse = mean_squared_error(y_test, y_pred_ensemble)\n",
    "ensemble_r2 = r2_score(y_test, y_pred_ensemble)\n",
    "print(f\"Ensemble Model - MSE: {ensemble_mse:.2f}, R2: {ensemble_r2:.2f}\")\n"
   ]
  },
  {
   "cell_type": "code",
   "execution_count": null,
   "metadata": {
    "id": "A7SoSM8z1CG6"
   },
   "outputs": [],
   "source": [
    "## next 7 day prediction\n",
    "for i in range(7):\n",
    "\n",
    "    latest_data_scaled = scaler.transform(latest_data[['PM2.5', 'PM10', 'NO', 'NOx', 'NH3', 'SO2', 'CO', 'Ozone', 'Benzene', 'Toluene', 'RH', 'WS', 'WD', 'SR', 'BP', 'AT', 'NO2', 'lag_1', 'lag_2']])\n",
    "\n",
    "\n",
    "    next_day_prediction = ensemble_model.predict(latest_data_scaled)\n",
    "\n",
    "\n",
    "    predictions.append(next_day_prediction[0])\n",
    "\n",
    "\n",
    "    latest_data['lag_2'] = latest_data['lag_1']\n",
    "    latest_data['lag_1'] = next_day_prediction[0]\n",
    "\n",
    "print(\"Predicted AQI for the next 7 days:\", predictions)"
   ]
  },
  {
   "cell_type": "code",
   "execution_count": null,
   "metadata": {
    "id": "Bn97aUvT1MfX"
   },
   "outputs": [],
   "source": [
    "plt.figure(figsize=(10, 6))\n",
    "plt.plot(range(1, 8), predictions, marker='o', linestyle='-', color='green')\n",
    "plt.title('Predicted AQI for the Next 7 Days')\n",
    "plt.xlabel('Day')\n",
    "plt.ylabel('Predicted AQI')\n",
    "plt.xticks(range(1, 8))\n",
    "plt.grid(True)\n",
    "plt.show()"
   ]
  }
 ],
 "metadata": {
  "colab": {
   "provenance": []
  },
  "kernelspec": {
   "display_name": "Python 3",
   "name": "python3"
  },
  "language_info": {
   "name": "python"
  }
 },
 "nbformat": 4,
 "nbformat_minor": 0
}
